{
 "cells": [
  {
   "cell_type": "code",
   "execution_count": 221,
   "metadata": {},
   "outputs": [],
   "source": [
    "import numpy as np\n",
    "import torch\n",
    "import torch.nn as nn\n",
    "from torch.utils.data import TensorDataset, DataLoader\n",
    "import matplotlib.pyplot as plt\n",
    "from tqdm import tqdm\n",
    "from random import shuffle\n",
    "import pandas as pd\n",
    "import os"
   ]
  },
  {
   "cell_type": "code",
   "execution_count": 222,
   "metadata": {},
   "outputs": [],
   "source": [
    "train_path = 'mc_data/train/'\n",
    "test_path = 'mc_data/test/'"
   ]
  },
  {
   "cell_type": "code",
   "execution_count": 223,
   "metadata": {},
   "outputs": [],
   "source": [
    "def one_hot(img):\n",
    "    # img is the file name of a configuration\n",
    "    label,T,_,_ = img.split('_')\n",
    "    if label == 'low':\n",
    "        ohl = np.array([1,0])\n",
    "    elif label == 'high':\n",
    "        ohl = np.array([0,1])\n",
    "    return ohl,float(T)\n",
    "def data_with_label(data_path,*args):\n",
    "    data = []\n",
    "    if args: # The args are a list if directories in the data path that separate the classes/categories\n",
    "        for category in args:\n",
    "            for i in tqdm(os.listdir(data_path + category)):\n",
    "                path = os.path.join(data_path, category,i)\n",
    "                img = np.load(path)\n",
    "                data.append([img.astype(dtype='float32'), one_hot(i)])\n",
    "        shuffle(data)\n",
    "        return data"
   ]
  },
  {
   "cell_type": "code",
   "execution_count": 224,
   "metadata": {},
   "outputs": [
    {
     "name": "stderr",
     "output_type": "stream",
     "text": [
      "100%|██████████| 400/400 [00:00<00:00, 2580.66it/s]\n",
      "100%|██████████| 400/400 [00:00<00:00, 2424.25it/s]\n",
      "100%|██████████| 200/200 [00:00<00:00, 2563.97it/s]\n",
      "100%|██████████| 200/200 [00:00<00:00, 2597.38it/s]\n"
     ]
    }
   ],
   "source": [
    "train_set=data_with_label(train_path,'low','high')\n",
    "test_set=data_with_label(test_path,'low','high')\n",
    "\n",
    "train_configs = [i[0] for i in train_set]\n",
    "train_labels = [i[1][0] for i in train_set]\n",
    "train_temps = [i[1][1] for i in train_set]\n",
    "\n",
    "test_configs = [i[0] for i in test_set]\n",
    "test_labels = [i[1][0] for i in test_set]\n",
    "test_temps = [i[1][1] for i in test_set]"
   ]
  },
  {
   "cell_type": "code",
   "execution_count": 225,
   "metadata": {},
   "outputs": [],
   "source": [
    "train_data = TensorDataset(torch.Tensor(train_configs), torch.Tensor(train_labels))\n",
    "test_data = TensorDataset(torch.Tensor(test_configs), torch.Tensor(test_labels))\n",
    "train_loader = DataLoader(train_data, batch_size=64, shuffle=True)\n",
    "test_loader = DataLoader(test_data, batch_size=64, shuffle=False)"
   ]
  },
  {
   "cell_type": "code",
   "execution_count": 226,
   "metadata": {},
   "outputs": [],
   "source": [
    "model = torch.nn.Sequential(\n",
    "    torch.nn.Flatten(),\n",
    "    torch.nn.Linear(900, 256),\n",
    "    torch.nn.ReLU(),\n",
    "    torch.nn.Linear(256, 2),\n",
    "    torch.nn.Softmax(dim=1)\n",
    ")"
   ]
  },
  {
   "cell_type": "code",
   "execution_count": 227,
   "metadata": {},
   "outputs": [
    {
     "name": "stdout",
     "output_type": "stream",
     "text": [
      "Epoch0, Training loss:0.516009699839812\n",
      "Epoch1, Training loss:0.3753924621985509\n",
      "Epoch2, Training loss:0.3101319945775546\n",
      "Epoch3, Training loss:0.26492939316309416\n",
      "Epoch4, Training loss:0.23422110539216262\n",
      "Epoch5, Training loss:0.20799356813614184\n",
      "Epoch6, Training loss:0.1883389537151043\n",
      "Epoch7, Training loss:0.17155499641711897\n",
      "Epoch8, Training loss:0.15565007065351194\n",
      "Epoch9, Training loss:0.14630944109880006\n",
      "Epoch10, Training loss:0.13160940145070738\n",
      "Epoch11, Training loss:0.12347815988155511\n",
      "Epoch12, Training loss:0.11522379116370128\n",
      "Epoch13, Training loss:0.10695348049585636\n",
      "Epoch14, Training loss:0.09975577260439213\n",
      "Epoch15, Training loss:0.0932345069371737\n",
      "Epoch16, Training loss:0.0888937428020514\n",
      "Epoch17, Training loss:0.08354497700929642\n",
      "Epoch18, Training loss:0.0775685917872649\n",
      "Epoch19, Training loss:0.07362085695450123\n"
     ]
    }
   ],
   "source": [
    "optimizer = torch.optim.SGD(model.parameters(), lr = 0.01)\n",
    "criterion = nn.BCELoss()\n",
    "\n",
    "num_epochs = 20\n",
    "for epoch in range(num_epochs):\n",
    "    loss_ = 0\n",
    "    for x, labels in train_loader:\n",
    "\n",
    "        # Forward Pass\n",
    "        output = model(x)\n",
    "        # Loss at each oteration by comparing to target(label)\n",
    "        loss = criterion(output, labels)\n",
    "\n",
    "        # Backpropogating gradient of loss\n",
    "        optimizer.zero_grad()\n",
    "        loss.backward()\n",
    "\n",
    "        # Updating parameters(weights and bias)\n",
    "        optimizer.step()\n",
    "\n",
    "        loss_ += loss.item()\n",
    "    print(\"Epoch{}, Training loss:{}\".format(epoch, loss_ / len(train_loader)))"
   ]
  },
  {
   "cell_type": "code",
   "execution_count": 228,
   "metadata": {},
   "outputs": [
    {
     "name": "stdout",
     "output_type": "stream",
     "text": [
      "Test accuracy: 97.5 %\n"
     ]
    }
   ],
   "source": [
    "with torch.no_grad():\n",
    "    correct = 0\n",
    "    total = len(test_loader.dataset)\n",
    "    low_pred = []\n",
    "    high_pred = []\n",
    "    for x, labels in test_loader:\n",
    "        out = model(x)\n",
    "        predicted = torch.argmax(out, dim=1)\n",
    "        labels = torch.argmax(labels, dim=1)\n",
    "        \n",
    "        for i in range(len(predicted)):\n",
    "            if predicted[i] == labels[i]:\n",
    "                correct+=1\n",
    "\n",
    "            low_pred.append(float(out[i][0]))\n",
    "            high_pred.append(float(out[i][1]))\n",
    "        # print(labels)\n",
    "        \n",
    "    print('Test accuracy: {} %'.format(100 * correct / total))"
   ]
  },
  {
   "cell_type": "code",
   "execution_count": 229,
   "metadata": {},
   "outputs": [
    {
     "data": {
      "text/plain": [
       "Text(0, 0.5, 'Output from neurons')"
      ]
     },
     "execution_count": 229,
     "metadata": {},
     "output_type": "execute_result"
    },
    {
     "data": {
      "image/png": "[encoded data removed]",
      "text/plain": [
       "<Figure size 432x288 with 1 Axes>"
      ]
     },
     "metadata": {
      "needs_background": "light"
     },
     "output_type": "display_data"
    }
   ],
   "source": [
    "df1 = pd.DataFrame({'low_prediction':low_pred,'High_prediction':high_pred, 'Temp':test_temps})\n",
    "df1.head()\n",
    "\n",
    "df2=df1.groupby('Temp').mean()\n",
    "df2.head()\n",
    "\n",
    "df2.plot(marker='o')\n",
    "plt.axvline(1/2.27,c='black', linestyle ='--',lw=2)\n",
    "plt.xlabel(r\" $\\beta J$\")\n",
    "plt.ylabel(\"Output from neurons\")"
   ]
  }
 ],
 "metadata": {
  "kernelspec": {
   "display_name": "Python 3.9.6 64-bit",
   "language": "python",
   "name": "python3"
  },
  "language_info": {
   "codemirror_mode": {
    "name": "ipython",
    "version": 3
   },
   "file_extension": ".py",
   "mimetype": "text/x-python",
   "name": "python",
   "nbconvert_exporter": "python",
   "pygments_lexer": "ipython3",
   "version": "3.9.6"
  },
  "orig_nbformat": 4,
  "vscode": {
   "interpreter": {
    "hash": "7a6b687d70e4ffe0add84d148dea929505d647fd87a76dc206a1b4d73c1fa0ec"
   }
  }
 },
 "nbformat": 4,
 "nbformat_minor": 2
}
