{
 "cells": [
  {
   "cell_type": "code",
   "execution_count": 1,
   "metadata": {},
   "outputs": [],
   "source": [
    "train_path = 'mc_data/train/'\n",
    "test_path = 'mc_data/test/'"
   ]
  }
 ],
 "metadata": {
  "kernelspec": {
   "display_name": "Python 3.9.6 64-bit",
   "language": "python",
   "name": "python3"
  },
  "language_info": {
   "name": "python",
   "version": "3.9.6"
  },
  "orig_nbformat": 4,
  "vscode": {
   "interpreter": {
    "hash": "7a6b687d70e4ffe0add84d148dea929505d647fd87a76dc206a1b4d73c1fa0ec"
   }
  }
 },
 "nbformat": 4,
 "nbformat_minor": 2
}
