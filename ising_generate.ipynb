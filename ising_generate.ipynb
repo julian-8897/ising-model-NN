{
 "cells": [
  {
   "cell_type": "code",
   "execution_count": 41,
   "metadata": {},
   "outputs": [],
   "source": [
    "import numpy as np\n",
    "import os\n",
    "import matplotlib.pyplot as plt\n",
    "import numba\n",
    "from numba import njit\n",
    "from scipy.ndimage import convolve , generate_binary_structure"
   ]
  },
  {
   "cell_type": "code",
   "execution_count": 42,
   "metadata": {},
   "outputs": [],
   "source": [
    "N= 30"
   ]
  },
  {
   "cell_type": "code",
   "execution_count": 43,
   "metadata": {},
   "outputs": [
    {
     "data": {
      "text/plain": [
       "<matplotlib.image.AxesImage at 0x1f2e8847460>"
      ]
     },
     "execution_count": 43,
     "metadata": {},
     "output_type": "execute_result"
    },
    {
     "data": {
      "image/png": "[encoded data removed]",
      "text/plain": [
       "<Figure size 432x288 with 1 Axes>"
      ]
     },
     "metadata": {
      "needs_background": "light"
     },
     "output_type": "display_data"
    }
   ],
   "source": [
    "def create_configuration(N):\n",
    "    init_state = 2.0*np.random.randint(0,2, size=(N,N)) - 1\n",
    "    return init_state\n",
    "    \n",
    "initial_state = create_configuration(N)\n",
    "type(initial_state)\n",
    "plt.imshow(initial_state)"
   ]
  },
  {
   "cell_type": "code",
   "execution_count": 44,
   "metadata": {},
   "outputs": [
    {
     "data": {
      "text/plain": [
       "<matplotlib.image.AxesImage at 0x1f2e88a8850>"
      ]
     },
     "execution_count": 44,
     "metadata": {},
     "output_type": "execute_result"
    },
    {
     "data": {
      "image/png": "[encoded data removed]",
      "text/plain": [
       "<Figure size 432x288 with 1 Axes>"
      ]
     },
     "metadata": {
      "needs_background": "light"
     },
     "output_type": "display_data"
    }
   ],
   "source": [
    "init_random = np.random.random((N,N))\n",
    "lattice_n = np.zeros((N, N))\n",
    "lattice_n[init_random>=0.75] = 1\n",
    "lattice_n[init_random<0.75] = -1\n",
    "plt.imshow(lattice_n)"
   ]
  },
  {
   "cell_type": "code",
   "execution_count": 45,
   "metadata": {},
   "outputs": [
    {
     "data": {
      "text/plain": [
       "-148.0"
      ]
     },
     "execution_count": 45,
     "metadata": {},
     "output_type": "execute_result"
    }
   ],
   "source": [
    "def total_energy(lattice):\n",
    "    kernel = generate_binary_structure(2,1)\n",
    "    kernel[1][1] = False\n",
    "    arr = -lattice*convolve(lattice, kernel, mode='constant', cval=0)\n",
    "    return arr.sum()\n",
    "    \n",
    "total_energy(initial_state)"
   ]
  },
  {
   "cell_type": "code",
   "execution_count": 46,
   "metadata": {},
   "outputs": [
    {
     "name": "stderr",
     "output_type": "stream",
     "text": [
      "c:\\Users\\pc 3\\AppData\\Local\\Programs\\Python\\Python39\\lib\\site-packages\\numba\\core\\decorators.py:253: RuntimeWarning: nopython is set for njit and is ignored\n",
      "  warnings.warn('nopython is set for njit and is ignored', RuntimeWarning)\n"
     ]
    }
   ],
   "source": [
    "@numba.njit(\"UniTuple(f8[:], 2)(f8[:,:], i8, f8, f8)\", nogil=True)\n",
    "def metropolis(spin_arr, n_iter, BJ, energy):\n",
    "    spin_arr = spin_arr.copy()\n",
    "    net_spins = np.zeros(n_iter-1)\n",
    "    net_energy = np.zeros(n_iter-1)\n",
    "\n",
    "    for n in range(0, n_iter-1):\n",
    "        # 2. pick random point on array and flip spin\n",
    "        x = np.random.randint(0,N)\n",
    "        y = np.random.randint(0,N)\n",
    "        spin_i = spin_arr[x,y] #initial spin\n",
    "        spin_f = spin_i*-1 #proposed spin flip\n",
    "    \n",
    "        # compute change in energy\n",
    "        E_i = 0\n",
    "        E_f = 0\n",
    "\n",
    "        if x>0:\n",
    "            E_i += -spin_i*spin_arr[x-1,y]\n",
    "            E_f += -spin_f*spin_arr[x-1,y]\n",
    "\n",
    "        if y>0:\n",
    "            E_i += -spin_i*spin_arr[x,y-1]\n",
    "            E_f += -spin_f*spin_arr[x,y-1]\n",
    "\n",
    "        if x<N-1:\n",
    "            E_i += -spin_i*spin_arr[x+1,y]\n",
    "            E_f += -spin_f*spin_arr[x+1,y]\n",
    "\n",
    "        if y<N-1:\n",
    "            E_i += -spin_i*spin_arr[x,y+1]\n",
    "            E_f += -spin_f*spin_arr[x,y+1]\n",
    " \n",
    "        # 3 / 4. change state with designated probabilities\n",
    "        dE = E_f-E_i\n",
    "        if (dE>0) and (np.exp(-BJ*dE) > np.random.random()):\n",
    "            spin_arr[x,y]=spin_f\n",
    "            energy += dE\n",
    "\n",
    "        elif dE<=0:\n",
    "            spin_arr[x,y]=spin_f\n",
    "            energy += dE\n",
    "\n",
    "        net_spins[n] = spin_arr.sum()\n",
    "        net_energy[n] = energy\n",
    "\n",
    "    return net_spins, net_energy"
   ]
  },
  {
   "cell_type": "code",
   "execution_count": null,
   "metadata": {},
   "outputs": [],
   "source": [
    "spins, energies = metropolis(initial_state, 2000000, 0.8, total_energy(initial_state))"
   ]
  },
  {
   "cell_type": "code",
   "execution_count": null,
   "metadata": {},
   "outputs": [],
   "source": [
    "fig, axes = plt.subplots(1, 3, figsize=(20,6))\n",
    "ax = axes[0]\n",
    "ax.plot(spins/N**2)\n",
    "ax.set_xlabel(\"Time steps\")\n",
    "ax.set_ylabel(r\"Magnetisation $m$\")\n",
    "ax.grid()\n",
    "\n",
    "ax = axes[1]\n",
    "ax.plot(energies)\n",
    "ax.set_xlabel(\"Time steps\")\n",
    "ax.set_ylabel(r\"Energy $E/J$\")\n",
    "ax.grid()\n",
    "\n",
    "ax = axes[2]\n",
    "ax.imshow(lattice_n)\n",
    "ax.set_title(\"Final configuration\")\n",
    "\n",
    "fig.tight_layout()"
   ]
  },
  {
   "cell_type": "code",
   "execution_count": null,
   "metadata": {},
   "outputs": [],
   "source": [
    "def sample_generation(N, BJ, n_samples, n_iterations, dirPath):\n",
    "\n",
    "    for i in range(0, n_samples):\n",
    "        config = create_configuration(N)\n",
    "        metropolis(config, n_iterations, BJ, total_energy(config))\n",
    "\n",
    "        if BJ > (1/2.27):\n",
    "            category = \"low\"\n",
    "\n",
    "        else:\n",
    "            category = \"high\"\n",
    "\n",
    "    path = os.path.join(dirPath,category)\n",
    "    os.makedirs(path, exist_ok=True)\n",
    "    np.save(os.path.join(path,f\"{category}_{BJ:.2f}_{i}_\"), config)"
   ]
  },
  {
   "cell_type": "code",
   "execution_count": null,
   "metadata": {},
   "outputs": [],
   "source": [
    "BJ_list = [0.1, 0.2, 0.3, 0.4, 0.5, 0.6, 0.7, 0.8]"
   ]
  },
  {
   "cell_type": "markdown",
   "metadata": {},
   "source": [
    "### Generating training configurations"
   ]
  },
  {
   "cell_type": "code",
   "execution_count": null,
   "metadata": {},
   "outputs": [],
   "source": [
    "train_path = 'mc_data/train'\n",
    "for i in range(len(BJ_list)):\n",
    "    sample_generation(30, BJ_list[i], 100, 1000000, train_path)"
   ]
  },
  {
   "cell_type": "code",
   "execution_count": null,
   "metadata": {},
   "outputs": [],
   "source": [
    "test_path = 'mc_data/test'\n",
    "for i in range(len(BJ_list)):\n",
    "    sample_generation(30, BJ_list[i], 50, 1000000, test_path)"
   ]
  },
  {
   "cell_type": "code",
   "execution_count": null,
   "metadata": {},
   "outputs": [],
   "source": [
    "data_files=os.listdir(f\"{train_path}/low\")\n",
    "sample=np.load(os.path.join(f\"{train_path}/low\",data_files[5]))\n",
    "plt.imshow(sample)"
   ]
  }
 ],
 "metadata": {
  "kernelspec": {
   "display_name": "Python 3.9.6 64-bit",
   "language": "python",
   "name": "python3"
  },
  "language_info": {
   "codemirror_mode": {
    "name": "ipython",
    "version": 3
   },
   "file_extension": ".py",
   "mimetype": "text/x-python",
   "name": "python",
   "nbconvert_exporter": "python",
   "pygments_lexer": "ipython3",
   "version": "3.9.6"
  },
  "orig_nbformat": 4,
  "vscode": {
   "interpreter": {
    "hash": "7a6b687d70e4ffe0add84d148dea929505d647fd87a76dc206a1b4d73c1fa0ec"
   }
  }
 },
 "nbformat": 4,
 "nbformat_minor": 2
}
